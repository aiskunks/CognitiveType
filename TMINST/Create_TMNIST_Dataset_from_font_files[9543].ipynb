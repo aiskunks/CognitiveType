{
  "nbformat": 4,
  "nbformat_minor": 0,
  "metadata": {
    "colab": {
      "name": "Create_TMNIST_Dataset_from_font_files.ipynb",
      "provenance": []
    },
    "kernelspec": {
      "name": "python3",
      "display_name": "Python 3"
    },
    "language_info": {
      "name": "python"
    }
  },
  "cells": [
    {
      "cell_type": "markdown",
      "metadata": {
        "id": "dL2IKi0LMXZs"
      },
      "source": [
        "## Prerequisites to running the notebook"
      ]
    },
    {
      "cell_type": "markdown",
      "metadata": {
        "id": "qVDMe2PlNU1K"
      },
      "source": [
        "\n",
        "\n",
        "1.   Create a directory named 'ofl' and paste the font directories in it {The directory structure should be: **'/content/ofl/'font_directories'/'(.ttf or .otf) font_files**\n",
        "2.   The other option is to mount your Google Drive and include the .ttf files in the /ofl/'font_directories'/'(.ttf or .otf) font_files structure and replace the '/ofl' directory path from '/content/ofl to the /ofl path from your Google Drive trhoughout this notebook\n",
        "3.   Please carefully read all the cell titles and comments in each cell carefully before executing\n",
        "\n"
      ]
    },
    {
      "cell_type": "markdown",
      "metadata": {
        "id": "mIHF4z7cQyMY"
      },
      "source": [
        "## Import necessary ilbrary modules"
      ]
    },
    {
      "cell_type": "code",
      "metadata": {
        "id": "wpKLtfzFL96R"
      },
      "source": [
        "import os, sys, time, random, re, optparse, datetime, shutil\n",
        "import re\n",
        "import pandas as pd                 \n",
        "from PIL import Image, ImageDraw, ImageFont, ImageOps\n",
        "import string\n",
        "from numpy import asarray\n",
        "import numpy as np\n",
        "import cv2\n",
        "import matplotlib.pyplot as plt\n",
        "import math\n",
        "from scipy import ndimage\n",
        "import glob\n",
        "import csv\n",
        "import json\n",
        "import unicodedata"
      ],
      "execution_count": 10,
      "outputs": []
    },
    {
      "cell_type": "code",
      "metadata": {
        "colab": {
          "base_uri": "https://localhost:8080/"
        },
        "id": "SppohV6NRPmO",
        "outputId": "23844571-fe4b-4fee-b85b-c244b2c18a40"
      },
      "source": [
        "!pip install numpy_indexed\n",
        "!pip install fontTools"
      ],
      "execution_count": 77,
      "outputs": [
        {
          "output_type": "stream",
          "name": "stdout",
          "text": [
            "Requirement already satisfied: numpy_indexed in /usr/local/lib/python3.7/dist-packages (0.3.5)\n",
            "Requirement already satisfied: numpy in /usr/local/lib/python3.7/dist-packages (from numpy_indexed) (1.19.5)\n",
            "Requirement already satisfied: future in /usr/local/lib/python3.7/dist-packages (from numpy_indexed) (0.16.0)\n",
            "Requirement already satisfied: fontTools in /usr/local/lib/python3.7/dist-packages (4.26.2)\n"
          ]
        }
      ]
    },
    {
      "cell_type": "code",
      "metadata": {
        "id": "TCDhlKTPROt4"
      },
      "source": [
        "import numpy_indexed as npi\n",
        "from fontTools.ttLib import TTFont"
      ],
      "execution_count": 78,
      "outputs": []
    },
    {
      "cell_type": "markdown",
      "metadata": {
        "id": "oXdnAISJRUdh"
      },
      "source": [
        "## Loading a character list"
      ]
    },
    {
      "cell_type": "markdown",
      "metadata": {
        "id": "OA0rNr8sRthF"
      },
      "source": [
        "**Run the following cell if the characters are stored in a text file**"
      ]
    },
    {
      "cell_type": "code",
      "metadata": {
        "id": "V1hEWDBVRTot"
      },
      "source": [
        "with open('/content/'insert text file name') as f:\n",
        "    characters = f.readlines()\n",
        "print(characters)\n",
        "# If the characters have a newline character present (ex:'A\\n') then run the following commands otherwise comment them out\n",
        "for i in range(len(characters)):\n",
        "  characters[i]=characters[i].strip()\n",
        "print(characters)\n",
        "print('Total number of characters are: ',len(characters))"
      ],
      "execution_count": null,
      "outputs": []
    },
    {
      "cell_type": "markdown",
      "metadata": {
        "id": "1rhmVCPqTHFq"
      },
      "source": [
        "**Run the following cell if you want to directly paste the characters**"
      ]
    },
    {
      "cell_type": "code",
      "metadata": {
        "colab": {
          "base_uri": "https://localhost:8080/"
        },
        "id": "ZlUxnkV9TRui",
        "outputId": "e420d6fd-74d2-424b-8dfa-6e0aa527f11a"
      },
      "source": [
        "unicode_text=u\"Paste all characters here\"\n",
        "# Example: unicode_text=u\"0123456789abcdefghijklmnopqrstuvwxyzABCDEFGHIJKLMNOPQRSTUVWXYZ!\\\"#$%&'()*+,-./:;<=>?@[\\]^_`{|}~\"\n",
        "characters_temp=[]\n",
        "characters_temp[0:]=unicode_text\n",
        "print(characters_temp)\n",
        "double_char_check='SIGN'\n",
        "characters=[]\n",
        "for i in range(len(unicode_text)):\n",
        "  if double_char_check in unicodedata.name(unicode_text[i]):\n",
        "    new_char1=unicode_text[i-1]\n",
        "    new_char2=unicode_text[i]\n",
        "    new_char=str(new_char1)+str(new_char2)\n",
        "    print('new_char is: ',new_char)\n",
        "    characters[i-1]=new_char\n",
        "    \n",
        "  else:\n",
        "    characters.append(unicode_text[i])\n",
        "    \n",
        "    \n",
        "print('the final character list is: ',characters)\n",
        "print('Total number of characters are: ',len(characters))"
      ],
      "execution_count": 103,
      "outputs": [
        {
          "output_type": "stream",
          "name": "stdout",
          "text": [
            "['अ', 'ं', 'B', '1', 'A', 'प', 'फ', 'ब', 'भ', 'य', 'र', 'व', 'ळ', 'श', 'ष', 'स', 'ह', '०', '१', '२', '३', '४', '५', '६', '७', '८', '९', 'ក', 'ខ', 'គ', 'ឃ', 'ង', 'ច', 'ឆ']\n",
            "new_char is:  अं\n",
            "the final character list is:  ['अं', 'B', '1', 'A', 'प', 'फ', 'ब', 'भ', 'य', 'र', 'व', 'ळ', 'श', 'ष', 'स', 'ह', '०', '१', '२', '३', '४', '५', '६', '७', '८', '९', 'ក', 'ខ', 'គ', 'ឃ', 'ង', 'ច', 'ឆ']\n",
            "Total number of characters are:  33\n"
          ]
        }
      ]
    },
    {
      "cell_type": "markdown",
      "metadata": {
        "id": "-boLJ04FT8SR"
      },
      "source": [
        "## Important functions to generate a character image on an empty canvas and modify the image to an MNIST-style image "
      ]
    },
    {
      "cell_type": "code",
      "metadata": {
        "id": "HtuSMSxDULLh"
      },
      "source": [
        "# FUNCTION TO DISPLAY IMAGE ON BLANK CANVAS\n",
        "def display_image(unicode_text_1,text_width,text_height):\n",
        "  # create a blank canvas with extra space between lines\n",
        "  canvas = Image.new('L', (text_width+10, text_height+10), \"white\")\n",
        "  # draw the text onto the text canvas, and use black as the text color\n",
        "  draw = ImageDraw.Draw(canvas)\n",
        "  draw.text((5,5), unicode_text_1, 'black', font)\n",
        "  return canvas"
      ],
      "execution_count": 6,
      "outputs": []
    },
    {
      "cell_type": "code",
      "metadata": {
        "id": "Hyt4D9uWUVA5"
      },
      "source": [
        "# FUNCTION TO MAKE MNIST-STYLE IMAGE\n",
        "def preprocess(canvas):\n",
        "  #convert image to grayscale  \n",
        "  imgGray = canvas.convert('L') \n",
        "  #invert image pixels and crop digit part of image\n",
        "  inv_sample = ImageOps.invert(imgGray)\n",
        "  bbox = inv_sample.getbbox()\n",
        "  crop = inv_sample.crop(bbox)\n",
        "  #Resize image to 20x20 without losing aspect ratio\n",
        "  crop = np.asarray(crop)\n",
        "  width,height = np.shape(crop)\n",
        "  if width > height:\n",
        "    factor = 20.0/width\n",
        "    width = 20\n",
        "    height = int(round(height*factor))\n",
        "    gray = cv2.resize(crop, (height,width))\n",
        "  else:\n",
        "    factor = 20.0/height\n",
        "    height = 20\n",
        "    width = int(round(width*factor))\n",
        "    gray = cv2.resize(crop, (height,width))\n",
        "  #Add zero padding to make image 28x28\n",
        "  widthPadding = (int(math.ceil((28-height)/2.0)),int(math.floor((28-height)/2.0)))\n",
        "  heightPadding = (int(math.ceil((28-width)/2.0)),int(math.floor((28-width)/2.0)))\n",
        "  gray = Image.fromarray(gray)\n",
        "  gray = ImageOps.expand(gray, (widthPadding[0], heightPadding[0],widthPadding[1], heightPadding[1]))\n",
        "  gray=np.asarray(gray)\n",
        "  #Calculate center of mass\n",
        "  cy,cx = ndimage.measurements.center_of_mass(gray)\n",
        "  #use affine transform to translate the image so that the center of mass is at 14,14\n",
        "  width,height = gray.shape\n",
        "  shiftx = np.round(height/2.0-cx).astype(int)\n",
        "  shifty = np.round(width/2.0-cy).astype(int)\n",
        "  M = np.float32([[1,0,shiftx],[0,1,shifty]])\n",
        "  shifted = cv2.warpAffine(gray,M,(height,width))\n",
        "  return shifted "
      ],
      "execution_count": 7,
      "outputs": []
    },
    {
      "cell_type": "code",
      "metadata": {
        "id": "HiSZ7uu4L-pd"
      },
      "source": [
        "## Function to check if a font file can create the image of a character\n",
        "#font = TTFont('/content/ofl/abhayalibre/AbhayaLibre-Bold.ttf')   # specify the path to the font in question\n",
        "\n",
        "#unicode_char='अ'\n",
        "def char_in_font(unicode_char, font):\n",
        "    for cmap in font['cmap'].tables:\n",
        "        if cmap.isUnicode():\n",
        "            if ord(unicode_char) in cmap.cmap:\n",
        "                return True\n",
        "    return False"
      ],
      "execution_count": 81,
      "outputs": []
    },
    {
      "cell_type": "markdown",
      "metadata": {
        "id": "E4_JqYx3VPgr"
      },
      "source": [
        "## Final block of cells to generate the images and a csv file containing the following headers will also be created\n",
        "\n",
        "\n",
        "1.   'font_name'\n",
        "2.   'character_name'\n",
        "3.   'label'\n",
        "4.   784 grayscale values for each image\n",
        "\n",
        "**Only images for characters included in the map table for the .ttf font file will be created**\n",
        "\n"
      ]
    },
    {
      "cell_type": "code",
      "metadata": {
        "colab": {
          "base_uri": "https://localhost:8080/"
        },
        "id": "tzH00hpQWVKR",
        "outputId": "0f7e6b11-2be7-4d6a-b0ec-1942c63160f7"
      },
      "source": [
        "# Specify font directory\n",
        "font_dir=os.path.abspath('/content/ofl') # change the path to wherever you've stored the 'ofl' directory if necessary\n",
        "print(font_dir)\n",
        "#Create a list to store all font name directories\n",
        "dir=sorted(os.listdir(font_dir))\n",
        "print(np.shape(dir))"
      ],
      "execution_count": 104,
      "outputs": [
        {
          "output_type": "stream",
          "name": "stdout",
          "text": [
            "/content/ofl\n",
            "(2,)\n"
          ]
        }
      ]
    },
    {
      "cell_type": "code",
      "metadata": {
        "colab": {
          "base_uri": "https://localhost:8080/"
        },
        "id": "pxqbrJA_XXHm",
        "outputId": "9c0c68e1-b76d-470b-aad6-ff4c7ed705ff"
      },
      "source": [
        "# store an array of unicodedata names of characters\n",
        "Character_name_array=[]\n",
        "for i in range(len(characters)):\n",
        "  ltr=characters[i].strip()\n",
        "  if (len(ltr)>1):\n",
        "    ltr1=[]\n",
        "    name=[]\n",
        "    for j in range(len(ltr)):\n",
        "      if j==0:\n",
        "        name=unicodedata.name(ltr[j])\n",
        "      else:\n",
        "        name=str(name)+' + '+unicodedata.name(ltr[j])\n",
        "  else:\n",
        "    name=unicodedata.name(ltr)\n",
        "  Character_name_array.append(name)\n",
        "print('length of Character_name_array is ',len(Character_name_array))\n",
        "print('Character names are ', Character_name_array)\n",
        "print('The characters are :', characters)"
      ],
      "execution_count": 105,
      "outputs": [
        {
          "output_type": "stream",
          "name": "stdout",
          "text": [
            "length of Character_name_array is  33\n",
            "Character names are  ['DEVANAGARI LETTER A + DEVANAGARI SIGN ANUSVARA', 'LATIN CAPITAL LETTER B', 'DIGIT ONE', 'LATIN CAPITAL LETTER A', 'DEVANAGARI LETTER PA', 'DEVANAGARI LETTER PHA', 'DEVANAGARI LETTER BA', 'DEVANAGARI LETTER BHA', 'DEVANAGARI LETTER YA', 'DEVANAGARI LETTER RA', 'DEVANAGARI LETTER VA', 'DEVANAGARI LETTER LLA', 'DEVANAGARI LETTER SHA', 'DEVANAGARI LETTER SSA', 'DEVANAGARI LETTER SA', 'DEVANAGARI LETTER HA', 'DEVANAGARI DIGIT ZERO', 'DEVANAGARI DIGIT ONE', 'DEVANAGARI DIGIT TWO', 'DEVANAGARI DIGIT THREE', 'DEVANAGARI DIGIT FOUR', 'DEVANAGARI DIGIT FIVE', 'DEVANAGARI DIGIT SIX', 'DEVANAGARI DIGIT SEVEN', 'DEVANAGARI DIGIT EIGHT', 'DEVANAGARI DIGIT NINE', 'KHMER LETTER KA', 'KHMER LETTER KHA', 'KHMER LETTER KO', 'KHMER LETTER KHO', 'KHMER LETTER NGO', 'KHMER LETTER CA', 'KHMER LETTER CHA']\n",
            "The characters are : ['अं', 'B', '1', 'A', 'प', 'फ', 'ब', 'भ', 'य', 'र', 'व', 'ळ', 'श', 'ष', 'स', 'ह', '०', '१', '२', '३', '४', '५', '६', '७', '८', '९', 'ក', 'ខ', 'គ', 'ឃ', 'ង', 'ច', 'ឆ']\n"
          ]
        }
      ]
    },
    {
      "cell_type": "code",
      "metadata": {
        "id": "1cJcPwra1BzK"
      },
      "source": [
        "# Create a directory to store all images created\n",
        "!mkdir /content/TMNIST_Images"
      ],
      "execution_count": 106,
      "outputs": []
    },
    {
      "cell_type": "code",
      "metadata": {
        "colab": {
          "base_uri": "https://localhost:8080/"
        },
        "id": "YSI3QYTuaIDT",
        "outputId": "d27659cf-bfe6-4b37-cc12-e09674adbb36"
      },
      "source": [
        "characters_image_array=[]\n",
        "\n",
        "ind=0\n",
        "ttf_count=0\n",
        "for a,b in enumerate(dir):\n",
        "  dir_1 = '/content/ofl/'+str(b)\n",
        "  font_dir = os.path.abspath(dir_1)\n",
        "  fonts={}\n",
        "  print(b)\n",
        "  #Create a new directory in TMNIST_Images folder to store images for individual font files\n",
        "  os.makedirs('/content/TMNIST_Images/'+str(b),exist_ok=True) \n",
        "  #2nd For loop to iterate over all .ttf or .otf files\n",
        "  for file in os.listdir(font_dir):       \n",
        "    (root, ext) = os.path.splitext(file)\n",
        "    #Check if font file exists and assign f as font file name\n",
        "    if (ext.lower() == '.otf') or (ext.lower() == '.ttf'):\n",
        "      f=file\n",
        "      # Create a new directory in TMNIST_Images/'font_file'/ to store images of individual font_styles\n",
        "      os.mkdir('/content/TMNIST_Images/'+str(b)+'/'+str(f))\n",
        "      ttf_count = ttf_count+1\n",
        "      print('font_style name is: ',file)\n",
        "      fonts[file]=root\n",
        "      image_array_1=[]\n",
        "      printable_character_index =[] # array to store index of character for which image can be generated by the font style\n",
        "      for a in range(len(characters)):\n",
        "        font=TTFont(str(dir_1)+'/'+str(f))\n",
        "        unicode_char=characters[a]\n",
        "        if (len(unicode_char)>1):\n",
        "          unicode_char=unicode_char[0]\n",
        "        if (char_in_font(unicode_char,font)==False):\n",
        "          continue\n",
        "        \n",
        "        printable_character_index.append(a)\n",
        "        \n",
        "        unicode_text_1 = str(characters[a])\n",
        "        final_font_dir = os.path.join(font_dir,f)\n",
        "        font = ImageFont.truetype(final_font_dir, 28,encoding=\"unic\")\n",
        "        text_width, text_height = font.getsize(unicode_text_1)\n",
        "        canvas = display_image(unicode_text_1,text_width,text_height)\n",
        "        shifted = preprocess(canvas)\n",
        "        ##SAVE SHIFTED IMAGES IN A font_style DIRECTORY \n",
        "        os.chdir('/content/TMNIST_Images/'+str(b)+'/'+str(f))\n",
        "        im=Image.fromarray(shifted)\n",
        "        im.save(str(unicode_text_1)+'.png')\n",
        "        os.chdir('/content')\n",
        "        image_array_1.append(shifted.flatten())\n",
        "        image_array_2=[]\n",
        "      for i in range(len(printable_character_index)):\n",
        "        tr1=image_array_1[i].tolist()\n",
        "        character_name=str(characters[printable_character_index[i]])\n",
        "        character_name.strip('\\n')\n",
        "        tr1.insert(0,character_name)\n",
        "        tr1.insert(0,Character_name_array[printable_character_index[i]])\n",
        "        image_array_2.append(tr1)\n",
        "      x=np.array(np.array(image_array_2))\n",
        "      \n",
        "      final_array=x\n",
        "      final_image_array_1=final_array.tolist()\n",
        "      for j in range(len(final_image_array_1)):\n",
        "        final_image_array_1[j].insert(0,f[:-4])\n",
        "      \n",
        "      ind=ind+1\n",
        "      if ind==1:\n",
        "        characters_image_array.append(final_image_array_1)\n",
        "        characters_image_array=np.array(characters_image_array)\n",
        "        characters_image_array=characters_image_array[0]\n",
        "        \n",
        "        \n",
        "        \n",
        "      else:\n",
        "        \n",
        "        final_image_array_1=np.array(final_image_array_1)\n",
        "        characters_image_array=np.concatenate((characters_image_array,final_image_array_1), axis=0)\n",
        "        \n",
        "        \n",
        "\n",
        "characters_image_array = np.array(characters_image_array)\t\n",
        "# save numpy array as csv file\n",
        "from numpy import asarray\n",
        "from numpy import savetxt\n",
        "a=list(range(1,785))\n",
        "b=['font_name','character_name','label']\n",
        "header_list=b+a\n",
        "df = pd.DataFrame(characters_image_array)\n",
        "df.to_csv('TMNIST_data.csv', index=False, header=header_list)\n",
        "\n",
        "\n"
      ],
      "execution_count": 107,
      "outputs": [
        {
          "output_type": "stream",
          "name": "stdout",
          "text": [
            ".ipynb_checkpoints\n",
            "abhayalibre\n",
            "font_style name is:  AbhayaLibre-Bold.ttf\n",
            "font_style name is:  AbhayaLibre-ExtraBold.ttf\n"
          ]
        }
      ]
    },
    {
      "cell_type": "code",
      "metadata": {
        "id": "bjAEM861J1GU"
      },
      "source": [
        ""
      ],
      "execution_count": null,
      "outputs": []
    }
  ]
}